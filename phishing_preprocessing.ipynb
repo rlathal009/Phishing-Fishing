{
  "nbformat": 4,
  "nbformat_minor": 0,
  "metadata": {
    "colab": {
      "name": "악성url_전처리.ipynb",
      "provenance": [],
      "collapsed_sections": []
    },
    "kernelspec": {
      "name": "python3",
      "display_name": "Python 3"
    },
    "language_info": {
      "name": "python"
    }
  },
  "cells": [
    {
      "cell_type": "markdown",
      "metadata": {
        "id": "CfIA498uiE7m"
      },
      "source": [
        "sample.csv 에는 일단 300개 데이터셋만 저장\n",
        "\n",
        "모든 함수는 악성 가능성이 있으면 1, 아니면 0\n",
        "ex) // 가 중간에 포함되면 1, 아니면 0"
      ]
    },
    {
      "cell_type": "code",
      "metadata": {
        "id": "UGVtBBTXsXH8"
      },
      "source": [
        "from google.colab import drive\n",
        "drive.mount('/content/drive')"
      ],
      "execution_count": null,
      "outputs": []
    },
    {
      "cell_type": "code",
      "metadata": {
        "colab": {
          "base_uri": "https://localhost:8080/",
          "height": 309
        },
        "id": "uFZ-945tsezr",
        "outputId": "e1ecdb37-f155-4ab3-e0d2-81db75260e40"
      },
      "source": [
        "import pandas as pd\n",
        "import numpy as np\n",
        "import os\n",
        "\n",
        "data = pd.read_csv('/content/sample.csv')\n",
        "\n",
        "data.head()"
      ],
      "execution_count": 24,
      "outputs": [
        {
          "output_type": "execute_result",
          "data": {
            "text/html": [
              "<div>\n",
              "<style scoped>\n",
              "    .dataframe tbody tr th:only-of-type {\n",
              "        vertical-align: middle;\n",
              "    }\n",
              "\n",
              "    .dataframe tbody tr th {\n",
              "        vertical-align: top;\n",
              "    }\n",
              "\n",
              "    .dataframe thead th {\n",
              "        text-align: right;\n",
              "    }\n",
              "</style>\n",
              "<table border=\"1\" class=\"dataframe\">\n",
              "  <thead>\n",
              "    <tr style=\"text-align: right;\">\n",
              "      <th></th>\n",
              "      <th>phish_id</th>\n",
              "      <th>url</th>\n",
              "      <th>phish_detail_url</th>\n",
              "      <th>submission_time</th>\n",
              "      <th>verified</th>\n",
              "      <th>verification_time</th>\n",
              "      <th>online</th>\n",
              "      <th>target</th>\n",
              "    </tr>\n",
              "  </thead>\n",
              "  <tbody>\n",
              "    <tr>\n",
              "      <th>0</th>\n",
              "      <td>7234051</td>\n",
              "      <td>http://seguridadar7912.byethost9.com/pase.php</td>\n",
              "      <td>http://www.phishtank.com/phish_detail.php?phis...</td>\n",
              "      <td>2021-07-19T04:06:30+00:00</td>\n",
              "      <td>yes</td>\n",
              "      <td>2021-07-19T04:15:44+00:00</td>\n",
              "      <td>yes</td>\n",
              "      <td>Other</td>\n",
              "    </tr>\n",
              "    <tr>\n",
              "      <th>1</th>\n",
              "      <td>7234046</td>\n",
              "      <td>http://kpatacusot.com/first/mazon/amazon/homep...</td>\n",
              "      <td>http://www.phishtank.com/phish_detail.php?phis...</td>\n",
              "      <td>2021-07-19T04:00:33+00:00</td>\n",
              "      <td>yes</td>\n",
              "      <td>2021-07-19T04:06:20+00:00</td>\n",
              "      <td>yes</td>\n",
              "      <td>Other</td>\n",
              "    </tr>\n",
              "    <tr>\n",
              "      <th>2</th>\n",
              "      <td>7234045</td>\n",
              "      <td>http://kpatacusot.com/first/mazon/f7404/</td>\n",
              "      <td>http://www.phishtank.com/phish_detail.php?phis...</td>\n",
              "      <td>2021-07-19T04:00:30+00:00</td>\n",
              "      <td>yes</td>\n",
              "      <td>2021-07-19T04:06:20+00:00</td>\n",
              "      <td>yes</td>\n",
              "      <td>Other</td>\n",
              "    </tr>\n",
              "    <tr>\n",
              "      <th>3</th>\n",
              "      <td>7234044</td>\n",
              "      <td>https://hufschuh.app/online.americanexpress.com</td>\n",
              "      <td>http://www.phishtank.com/phish_detail.php?phis...</td>\n",
              "      <td>2021-07-19T04:00:25+00:00</td>\n",
              "      <td>yes</td>\n",
              "      <td>2021-07-19T04:06:20+00:00</td>\n",
              "      <td>yes</td>\n",
              "      <td>Other</td>\n",
              "    </tr>\n",
              "    <tr>\n",
              "      <th>4</th>\n",
              "      <td>7234043</td>\n",
              "      <td>http://kpatacusot.com/first/mazon/amazon/</td>\n",
              "      <td>http://www.phishtank.com/phish_detail.php?phis...</td>\n",
              "      <td>2021-07-19T04:00:20+00:00</td>\n",
              "      <td>yes</td>\n",
              "      <td>2021-07-19T04:06:20+00:00</td>\n",
              "      <td>yes</td>\n",
              "      <td>Other</td>\n",
              "    </tr>\n",
              "  </tbody>\n",
              "</table>\n",
              "</div>"
            ],
            "text/plain": [
              "   phish_id                                                url  ... online target\n",
              "0   7234051      http://seguridadar7912.byethost9.com/pase.php  ...    yes  Other\n",
              "1   7234046  http://kpatacusot.com/first/mazon/amazon/homep...  ...    yes  Other\n",
              "2   7234045           http://kpatacusot.com/first/mazon/f7404/  ...    yes  Other\n",
              "3   7234044    https://hufschuh.app/online.americanexpress.com  ...    yes  Other\n",
              "4   7234043          http://kpatacusot.com/first/mazon/amazon/  ...    yes  Other\n",
              "\n",
              "[5 rows x 8 columns]"
            ]
          },
          "metadata": {
            "tags": []
          },
          "execution_count": 24
        }
      ]
    },
    {
      "cell_type": "code",
      "metadata": {
        "colab": {
          "base_uri": "https://localhost:8080/"
        },
        "id": "jyQukhRMLzJy",
        "outputId": "bec71735-48c7-4ded-e249-66de976698c6"
      },
      "source": [
        "data.info()"
      ],
      "execution_count": 25,
      "outputs": [
        {
          "output_type": "stream",
          "text": [
            "<class 'pandas.core.frame.DataFrame'>\n",
            "RangeIndex: 299 entries, 0 to 298\n",
            "Data columns (total 8 columns):\n",
            " #   Column             Non-Null Count  Dtype \n",
            "---  ------             --------------  ----- \n",
            " 0   phish_id           299 non-null    int64 \n",
            " 1   url                299 non-null    object\n",
            " 2   phish_detail_url   299 non-null    object\n",
            " 3   submission_time    299 non-null    object\n",
            " 4   verified           299 non-null    object\n",
            " 5   verification_time  299 non-null    object\n",
            " 6   online             299 non-null    object\n",
            " 7   target             299 non-null    object\n",
            "dtypes: int64(1), object(7)\n",
            "memory usage: 18.8+ KB\n"
          ],
          "name": "stdout"
        }
      ]
    },
    {
      "cell_type": "markdown",
      "metadata": {
        "id": "yMTbMkF_aZik"
      },
      "source": [
        "## 전처리"
      ]
    },
    {
      "cell_type": "code",
      "metadata": {
        "id": "j5lW_o9Ttq-O"
      },
      "source": [
        "#url 길이\n",
        "\n",
        "def length(url):\n",
        "  return len(url)"
      ],
      "execution_count": 26,
      "outputs": []
    },
    {
      "cell_type": "code",
      "metadata": {
        "id": "QfxgLc6De0n2"
      },
      "source": [
        "#url 단축 여부\n",
        "import requests\n",
        "\n",
        "def url_shorten(url):\n",
        "    req = 'https://unshorten.me/json/'+url\n",
        "    response = requests.request(\"GET\", req).json()\n",
        "    if (response['success'] and response['resolved_url'] != url):    # 단축 url인 경우 -> 피싱\n",
        "        return 1\n",
        "    else:                                                            # 정상\n",
        "        return 0"
      ],
      "execution_count": 27,
      "outputs": []
    },
    {
      "cell_type": "code",
      "metadata": {
        "id": "tj3qL8_je4B3"
      },
      "source": [
        "#@여부\n",
        "\n",
        "def at_sign(url):\n",
        "  if '@' in url:\n",
        "    return 1\n",
        "  else:\n",
        "    return 0"
      ],
      "execution_count": 28,
      "outputs": []
    },
    {
      "cell_type": "code",
      "metadata": {
        "id": "60lhGgsxe5kb"
      },
      "source": [
        "# 중간에 // 여부, redirection 확인\n",
        "\n",
        "def double_slash(url):\n",
        "  if '//' in url[7:]:\n",
        "    return 1\n",
        "  else:\n",
        "    return 0"
      ],
      "execution_count": 29,
      "outputs": []
    },
    {
      "cell_type": "code",
      "metadata": {
        "id": "4IXdDEvOe7mp"
      },
      "source": [
        "#점 개수\n",
        "\n",
        "def dot(url):\n",
        "  return url.count('.')"
      ],
      "execution_count": 30,
      "outputs": []
    },
    {
      "cell_type": "markdown",
      "metadata": {
        "id": "-XxuT_svTaAM"
      },
      "source": [
        "https://m.blog.naver.com/PostView.naver?isHttpsRedirect=true&blogId=is_king&logNo=221520718981"
      ]
    },
    {
      "cell_type": "code",
      "metadata": {
        "id": "7BNjNYGSQZW8"
      },
      "source": [
        "#IP주소\n",
        "from urllib.parse import urlparse\n",
        "\n",
        "def IP_add(url):\n",
        "  parse = urlparse(url)\n",
        "  domain = parse.netloc.split('.')\n",
        "  try:\n",
        "    int(domain[-1],0)\n",
        "    return 1\n",
        "  except ValueError:\n",
        "    return 0"
      ],
      "execution_count": 31,
      "outputs": []
    },
    {
      "cell_type": "code",
      "metadata": {
        "id": "a_HR_466e9dP"
      },
      "source": [
        "# - 있는지\n",
        "\n",
        "def dash(url):\n",
        "  if '-' in url:\n",
        "    return 1\n",
        "  else:\n",
        "    return 0"
      ],
      "execution_count": 32,
      "outputs": []
    },
    {
      "cell_type": "code",
      "metadata": {
        "id": "wc5AKv-zT22x"
      },
      "source": [
        "#http 인지 https 인지 확인\n",
        "\n",
        "def http(url):\n",
        "  if url.startswith('http://'):\n",
        "    return 1\n",
        "  else:\n",
        "    return 0"
      ],
      "execution_count": 33,
      "outputs": []
    },
    {
      "cell_type": "code",
      "metadata": {
        "colab": {
          "base_uri": "https://localhost:8080/",
          "height": 204
        },
        "id": "InY7Nj86Zpqo",
        "outputId": "f162c120-d0ad-4754-d8c0-28927ca10f25"
      },
      "source": [
        "file = pd.read_csv('/content/topsites.csv')\n",
        "\n",
        "file.head()"
      ],
      "execution_count": 34,
      "outputs": [
        {
          "output_type": "execute_result",
          "data": {
            "text/html": [
              "<div>\n",
              "<style scoped>\n",
              "    .dataframe tbody tr th:only-of-type {\n",
              "        vertical-align: middle;\n",
              "    }\n",
              "\n",
              "    .dataframe tbody tr th {\n",
              "        vertical-align: top;\n",
              "    }\n",
              "\n",
              "    .dataframe thead th {\n",
              "        text-align: right;\n",
              "    }\n",
              "</style>\n",
              "<table border=\"1\" class=\"dataframe\">\n",
              "  <thead>\n",
              "    <tr style=\"text-align: right;\">\n",
              "      <th></th>\n",
              "      <th>topsites</th>\n",
              "    </tr>\n",
              "  </thead>\n",
              "  <tbody>\n",
              "    <tr>\n",
              "      <th>0</th>\n",
              "      <td>google.com</td>\n",
              "    </tr>\n",
              "    <tr>\n",
              "      <th>1</th>\n",
              "      <td>youtube.com</td>\n",
              "    </tr>\n",
              "    <tr>\n",
              "      <th>2</th>\n",
              "      <td>facebook.com</td>\n",
              "    </tr>\n",
              "    <tr>\n",
              "      <th>3</th>\n",
              "      <td>baidu.com</td>\n",
              "    </tr>\n",
              "    <tr>\n",
              "      <th>4</th>\n",
              "      <td>wikipedia.org</td>\n",
              "    </tr>\n",
              "  </tbody>\n",
              "</table>\n",
              "</div>"
            ],
            "text/plain": [
              "        topsites\n",
              "0     google.com\n",
              "1    youtube.com\n",
              "2   facebook.com\n",
              "3      baidu.com\n",
              "4  wikipedia.org"
            ]
          },
          "metadata": {
            "tags": []
          },
          "execution_count": 34
        }
      ]
    },
    {
      "cell_type": "code",
      "metadata": {
        "colab": {
          "base_uri": "https://localhost:8080/"
        },
        "id": "nYkd6AJDaPGG",
        "outputId": "008f1310-8220-4f53-cf33-782b88461bd7"
      },
      "source": [
        "list = []\n",
        "for index in file['topsites']:\n",
        "  list.append(index.split('.')[0].lower())\n",
        "\n",
        "print(list)"
      ],
      "execution_count": 35,
      "outputs": [
        {
          "output_type": "stream",
          "text": [
            "['google', 'youtube', 'facebook', 'baidu', 'wikipedia', 'yahoo', 'google', 'reddit', 'qq', 'amazon', 'taobao', 'twitter', 'tmall', 'google', 'live', 'vk', 'instagram', 'sohu', 'sina', 'jd', 'weibo', '360', 'google', 'google', 'linkedin', 'google', 'list', 'google', 'google', 'yandex', 'netflix', 'google', 'yahoo', 'google', 't', 'ebay', 'google', 'pornhub', 'imgur', 'bing', 'msn', 'onclkds', 'twitch', 'google', 'google', 'tumblr', 'gmw', 'alipay', 'livejasmin', 'xvideos', 'mail', 'microsoft', 'ok', 'aliexpress', 'wordpress', 'hao123', 'stackoverflow', 'imdb', 'github', 'amazon', 'blogspot', 'pinterest', 'csdn', 'wikia', 'apple', 'google', 'popads', 'youth', 'office', 'bongacams', 'paypal', 'microsoftonline', 'google', 'google', 'whatsapp', 'google', 'xhamster', 'detail', 'diply', 'google', 'adobe', 'coccoc', 'craigslist', 'nicovideo', 'txxx', 'dropbox', 'amazon', 'google', 'amazon', 'googleusercontent', 'google', 'booking', 'thepiratebay', 'google', 'porn555', 'kbstar', 'shinhan', 'wooribank', 'ibk', 'kakaobank']\n"
          ],
          "name": "stdout"
        }
      ]
    },
    {
      "cell_type": "code",
      "metadata": {
        "id": "dlpOKnY4e_UL"
      },
      "source": [
        "#이미 사용되고있는 사이트명 / 브랜드명을 사용하고 있는지 -> alexa 등에서 저장하기\n",
        "\n",
        "def brands(url):\n",
        "  domain = urlparse(url).netloc.lower()\n",
        "  for names in list:\n",
        "    if names in domain:\n",
        "      return 1\n",
        "    else:\n",
        "      return 0"
      ],
      "execution_count": 36,
      "outputs": []
    },
    {
      "cell_type": "code",
      "metadata": {
        "id": "ao2xx5nsadV4"
      },
      "source": [
        "res = []\n",
        "index = 0\n",
        "\n",
        "for url in data['url']:\n",
        "  res.append([])\n",
        "  res[index].append(length(url))\n",
        "  res[index].append(url_shorten(url))\n",
        "  res[index].append(at_sign(url))\n",
        "  res[index].append(double_slash(url))\n",
        "  res[index].append(dot(url))\n",
        "  res[index].append(IP_add(url))\n",
        "  res[index].append(dash(url))\n",
        "  res[index].append(http(url))\n",
        "  res[index].append(brands(url))\n",
        "\n",
        "  index+=1"
      ],
      "execution_count": 38,
      "outputs": []
    },
    {
      "cell_type": "code",
      "metadata": {
        "colab": {
          "base_uri": "https://localhost:8080/"
        },
        "id": "WlFT2-3ybdqQ",
        "outputId": "a693f10c-358f-4c45-f480-18581d6d92e1"
      },
      "source": [
        "for i in range(10):\n",
        "  print(res[i])"
      ],
      "execution_count": 39,
      "outputs": [
        {
          "output_type": "stream",
          "text": [
            "[45, 0, 0, 0, 3, 0, 0, 1, 0]\n",
            "[50, 0, 0, 0, 1, 0, 0, 1, 0]\n",
            "[40, 0, 0, 0, 1, 0, 0, 1, 0]\n",
            "[47, 0, 0, 0, 3, 0, 0, 0, 0]\n",
            "[41, 0, 0, 0, 1, 0, 0, 1, 0]\n",
            "[37, 0, 0, 0, 2, 0, 0, 0, 0]\n",
            "[36, 0, 0, 0, 2, 0, 0, 1, 0]\n",
            "[36, 0, 0, 0, 2, 0, 0, 0, 0]\n",
            "[34, 0, 0, 0, 2, 0, 0, 0, 0]\n",
            "[34, 0, 0, 0, 2, 0, 0, 0, 0]\n"
          ],
          "name": "stdout"
        }
      ]
    },
    {
      "cell_type": "markdown",
      "metadata": {
        "id": "zA55SHL8buqQ"
      },
      "source": [
        "dataframe"
      ]
    },
    {
      "cell_type": "code",
      "metadata": {
        "id": "bKsHlBdSbuYN"
      },
      "source": [
        "columns = ['length', 'url_shorten', 'at_sign', 'redirection', 'dot', 'IP', 'dash', 'http', 'brands']\n",
        "final_res = pd.DataFrame(res, columns= columns)"
      ],
      "execution_count": 40,
      "outputs": []
    },
    {
      "cell_type": "code",
      "metadata": {
        "colab": {
          "base_uri": "https://localhost:8080/"
        },
        "id": "G5VkjCS5cMYB",
        "outputId": "1d451a74-72fa-453f-c3f5-dfae709f526f"
      },
      "source": [
        "final_res.info()"
      ],
      "execution_count": 42,
      "outputs": [
        {
          "output_type": "stream",
          "text": [
            "<class 'pandas.core.frame.DataFrame'>\n",
            "RangeIndex: 299 entries, 0 to 298\n",
            "Data columns (total 9 columns):\n",
            " #   Column       Non-Null Count  Dtype\n",
            "---  ------       --------------  -----\n",
            " 0   length       299 non-null    int64\n",
            " 1   url_shorten  299 non-null    int64\n",
            " 2   at_sign      299 non-null    int64\n",
            " 3   redirection  299 non-null    int64\n",
            " 4   dot          299 non-null    int64\n",
            " 5   IP           299 non-null    int64\n",
            " 6   dash         299 non-null    int64\n",
            " 7   http         299 non-null    int64\n",
            " 8   brands       299 non-null    int64\n",
            "dtypes: int64(9)\n",
            "memory usage: 21.1 KB\n"
          ],
          "name": "stdout"
        }
      ]
    },
    {
      "cell_type": "code",
      "metadata": {
        "colab": {
          "base_uri": "https://localhost:8080/",
          "height": 204
        },
        "id": "KOBi9mtgcOXI",
        "outputId": "f267037e-e40c-45ae-b38a-b03316da94b0"
      },
      "source": [
        "final_res.head()"
      ],
      "execution_count": 43,
      "outputs": [
        {
          "output_type": "execute_result",
          "data": {
            "text/html": [
              "<div>\n",
              "<style scoped>\n",
              "    .dataframe tbody tr th:only-of-type {\n",
              "        vertical-align: middle;\n",
              "    }\n",
              "\n",
              "    .dataframe tbody tr th {\n",
              "        vertical-align: top;\n",
              "    }\n",
              "\n",
              "    .dataframe thead th {\n",
              "        text-align: right;\n",
              "    }\n",
              "</style>\n",
              "<table border=\"1\" class=\"dataframe\">\n",
              "  <thead>\n",
              "    <tr style=\"text-align: right;\">\n",
              "      <th></th>\n",
              "      <th>length</th>\n",
              "      <th>url_shorten</th>\n",
              "      <th>at_sign</th>\n",
              "      <th>redirection</th>\n",
              "      <th>dot</th>\n",
              "      <th>IP</th>\n",
              "      <th>dash</th>\n",
              "      <th>http</th>\n",
              "      <th>brands</th>\n",
              "    </tr>\n",
              "  </thead>\n",
              "  <tbody>\n",
              "    <tr>\n",
              "      <th>0</th>\n",
              "      <td>45</td>\n",
              "      <td>0</td>\n",
              "      <td>0</td>\n",
              "      <td>0</td>\n",
              "      <td>3</td>\n",
              "      <td>0</td>\n",
              "      <td>0</td>\n",
              "      <td>1</td>\n",
              "      <td>0</td>\n",
              "    </tr>\n",
              "    <tr>\n",
              "      <th>1</th>\n",
              "      <td>50</td>\n",
              "      <td>0</td>\n",
              "      <td>0</td>\n",
              "      <td>0</td>\n",
              "      <td>1</td>\n",
              "      <td>0</td>\n",
              "      <td>0</td>\n",
              "      <td>1</td>\n",
              "      <td>0</td>\n",
              "    </tr>\n",
              "    <tr>\n",
              "      <th>2</th>\n",
              "      <td>40</td>\n",
              "      <td>0</td>\n",
              "      <td>0</td>\n",
              "      <td>0</td>\n",
              "      <td>1</td>\n",
              "      <td>0</td>\n",
              "      <td>0</td>\n",
              "      <td>1</td>\n",
              "      <td>0</td>\n",
              "    </tr>\n",
              "    <tr>\n",
              "      <th>3</th>\n",
              "      <td>47</td>\n",
              "      <td>0</td>\n",
              "      <td>0</td>\n",
              "      <td>0</td>\n",
              "      <td>3</td>\n",
              "      <td>0</td>\n",
              "      <td>0</td>\n",
              "      <td>0</td>\n",
              "      <td>0</td>\n",
              "    </tr>\n",
              "    <tr>\n",
              "      <th>4</th>\n",
              "      <td>41</td>\n",
              "      <td>0</td>\n",
              "      <td>0</td>\n",
              "      <td>0</td>\n",
              "      <td>1</td>\n",
              "      <td>0</td>\n",
              "      <td>0</td>\n",
              "      <td>1</td>\n",
              "      <td>0</td>\n",
              "    </tr>\n",
              "  </tbody>\n",
              "</table>\n",
              "</div>"
            ],
            "text/plain": [
              "   length  url_shorten  at_sign  redirection  dot  IP  dash  http  brands\n",
              "0      45            0        0            0    3   0     0     1       0\n",
              "1      50            0        0            0    1   0     0     1       0\n",
              "2      40            0        0            0    1   0     0     1       0\n",
              "3      47            0        0            0    3   0     0     0       0\n",
              "4      41            0        0            0    1   0     0     1       0"
            ]
          },
          "metadata": {
            "tags": []
          },
          "execution_count": 43
        }
      ]
    },
    {
      "cell_type": "code",
      "metadata": {
        "colab": {
          "base_uri": "https://localhost:8080/",
          "height": 317
        },
        "id": "wytkitHpcxKq",
        "outputId": "33250cf7-be09-4365-d3e1-512936efd01d"
      },
      "source": [
        "final_res.describe()"
      ],
      "execution_count": 44,
      "outputs": [
        {
          "output_type": "execute_result",
          "data": {
            "text/html": [
              "<div>\n",
              "<style scoped>\n",
              "    .dataframe tbody tr th:only-of-type {\n",
              "        vertical-align: middle;\n",
              "    }\n",
              "\n",
              "    .dataframe tbody tr th {\n",
              "        vertical-align: top;\n",
              "    }\n",
              "\n",
              "    .dataframe thead th {\n",
              "        text-align: right;\n",
              "    }\n",
              "</style>\n",
              "<table border=\"1\" class=\"dataframe\">\n",
              "  <thead>\n",
              "    <tr style=\"text-align: right;\">\n",
              "      <th></th>\n",
              "      <th>length</th>\n",
              "      <th>url_shorten</th>\n",
              "      <th>at_sign</th>\n",
              "      <th>redirection</th>\n",
              "      <th>dot</th>\n",
              "      <th>IP</th>\n",
              "      <th>dash</th>\n",
              "      <th>http</th>\n",
              "      <th>brands</th>\n",
              "    </tr>\n",
              "  </thead>\n",
              "  <tbody>\n",
              "    <tr>\n",
              "      <th>count</th>\n",
              "      <td>299.000000</td>\n",
              "      <td>299.000000</td>\n",
              "      <td>299.000000</td>\n",
              "      <td>299.0</td>\n",
              "      <td>299.000000</td>\n",
              "      <td>299.000000</td>\n",
              "      <td>299.000000</td>\n",
              "      <td>299.000000</td>\n",
              "      <td>299.000000</td>\n",
              "    </tr>\n",
              "    <tr>\n",
              "      <th>mean</th>\n",
              "      <td>55.735786</td>\n",
              "      <td>0.103679</td>\n",
              "      <td>0.013378</td>\n",
              "      <td>0.0</td>\n",
              "      <td>2.267559</td>\n",
              "      <td>0.006689</td>\n",
              "      <td>0.324415</td>\n",
              "      <td>0.371237</td>\n",
              "      <td>0.003344</td>\n",
              "    </tr>\n",
              "    <tr>\n",
              "      <th>std</th>\n",
              "      <td>51.237967</td>\n",
              "      <td>0.305355</td>\n",
              "      <td>0.115079</td>\n",
              "      <td>0.0</td>\n",
              "      <td>2.203258</td>\n",
              "      <td>0.081649</td>\n",
              "      <td>0.468941</td>\n",
              "      <td>0.483946</td>\n",
              "      <td>0.057831</td>\n",
              "    </tr>\n",
              "    <tr>\n",
              "      <th>min</th>\n",
              "      <td>19.000000</td>\n",
              "      <td>0.000000</td>\n",
              "      <td>0.000000</td>\n",
              "      <td>0.0</td>\n",
              "      <td>1.000000</td>\n",
              "      <td>0.000000</td>\n",
              "      <td>0.000000</td>\n",
              "      <td>0.000000</td>\n",
              "      <td>0.000000</td>\n",
              "    </tr>\n",
              "    <tr>\n",
              "      <th>25%</th>\n",
              "      <td>31.500000</td>\n",
              "      <td>0.000000</td>\n",
              "      <td>0.000000</td>\n",
              "      <td>0.0</td>\n",
              "      <td>1.000000</td>\n",
              "      <td>0.000000</td>\n",
              "      <td>0.000000</td>\n",
              "      <td>0.000000</td>\n",
              "      <td>0.000000</td>\n",
              "    </tr>\n",
              "    <tr>\n",
              "      <th>50%</th>\n",
              "      <td>40.000000</td>\n",
              "      <td>0.000000</td>\n",
              "      <td>0.000000</td>\n",
              "      <td>0.0</td>\n",
              "      <td>2.000000</td>\n",
              "      <td>0.000000</td>\n",
              "      <td>0.000000</td>\n",
              "      <td>0.000000</td>\n",
              "      <td>0.000000</td>\n",
              "    </tr>\n",
              "    <tr>\n",
              "      <th>75%</th>\n",
              "      <td>57.000000</td>\n",
              "      <td>0.000000</td>\n",
              "      <td>0.000000</td>\n",
              "      <td>0.0</td>\n",
              "      <td>2.000000</td>\n",
              "      <td>0.000000</td>\n",
              "      <td>1.000000</td>\n",
              "      <td>1.000000</td>\n",
              "      <td>0.000000</td>\n",
              "    </tr>\n",
              "    <tr>\n",
              "      <th>max</th>\n",
              "      <td>445.000000</td>\n",
              "      <td>1.000000</td>\n",
              "      <td>1.000000</td>\n",
              "      <td>0.0</td>\n",
              "      <td>23.000000</td>\n",
              "      <td>1.000000</td>\n",
              "      <td>1.000000</td>\n",
              "      <td>1.000000</td>\n",
              "      <td>1.000000</td>\n",
              "    </tr>\n",
              "  </tbody>\n",
              "</table>\n",
              "</div>"
            ],
            "text/plain": [
              "           length  url_shorten     at_sign  ...        dash        http      brands\n",
              "count  299.000000   299.000000  299.000000  ...  299.000000  299.000000  299.000000\n",
              "mean    55.735786     0.103679    0.013378  ...    0.324415    0.371237    0.003344\n",
              "std     51.237967     0.305355    0.115079  ...    0.468941    0.483946    0.057831\n",
              "min     19.000000     0.000000    0.000000  ...    0.000000    0.000000    0.000000\n",
              "25%     31.500000     0.000000    0.000000  ...    0.000000    0.000000    0.000000\n",
              "50%     40.000000     0.000000    0.000000  ...    0.000000    0.000000    0.000000\n",
              "75%     57.000000     0.000000    0.000000  ...    1.000000    1.000000    0.000000\n",
              "max    445.000000     1.000000    1.000000  ...    1.000000    1.000000    1.000000\n",
              "\n",
              "[8 rows x 9 columns]"
            ]
          },
          "metadata": {
            "tags": []
          },
          "execution_count": 44
        }
      ]
    },
    {
      "cell_type": "code",
      "metadata": {
        "id": "HCRVHDAnc41m"
      },
      "source": [
        "final_res.to_csv('/content/preprocessed_data.csv')"
      ],
      "execution_count": 45,
      "outputs": []
    }
  ]
}